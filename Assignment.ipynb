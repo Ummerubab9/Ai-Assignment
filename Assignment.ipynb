{
 "cells": [
  {
   "cell_type": "markdown",
   "id": "0401b703-3fa6-430c-9c6d-deca1313aeb6",
   "metadata": {},
   "source": [
    "\"<h1>Strings In Python </h1>"
   ]
  },
  {
   "cell_type": "code",
   "execution_count": 6,
   "id": "0cfe264d-d182-437e-b126-7c9e706f9c47",
   "metadata": {},
   "outputs": [
    {
     "name": "stdout",
     "output_type": "stream",
     "text": [
      "H\n"
     ]
    }
   ],
   "source": [
    "my_string = \"Hello\"\n",
    "print(my_string[0]) "
   ]
  },
  {
   "cell_type": "code",
   "execution_count": 8,
   "id": "2d9984f8-610f-49ee-970c-6c5ec5aa2dc1",
   "metadata": {},
   "outputs": [
    {
     "name": "stdout",
     "output_type": "stream",
     "text": [
      "Hello World\n"
     ]
    }
   ],
   "source": [
    "string1 = \"Hello\"\n",
    "string2 = \"World\"\n",
    "concatenated_string = string1 + \" \" + string2\n",
    "print(concatenated_string)  "
   ]
  },
  {
   "cell_type": "code",
   "execution_count": 10,
   "id": "426816a4-1654-4069-8b6d-73ce5d1346f5",
   "metadata": {},
   "outputs": [
    {
     "name": "stdout",
     "output_type": "stream",
     "text": [
      "hello, world!\n",
      "['Hello', 'World!']\n"
     ]
    }
   ],
   "source": [
    "my_string = \"Hello, World!\"\n",
    "print(my_string.lower()) \n",
    "print(my_string.split(\", \"))"
   ]
  },
  {
   "cell_type": "markdown",
   "id": "36e748c0-af2d-45bf-85a3-6834e44186ce",
   "metadata": {},
   "source": [
    "<h1> Data Types In python</h1>"
   ]
  },
  {
   "cell_type": "markdown",
   "id": "a52edcdb-afd8-4e60-add1-43b849fbe0ad",
   "metadata": {},
   "source": [
    "<h2> Numeric </h2>"
   ]
  },
  {
   "cell_type": "code",
   "execution_count": 8,
   "id": "08190d6d-1bb9-49a2-8897-1daefff9d5f4",
   "metadata": {},
   "outputs": [
    {
     "name": "stdout",
     "output_type": "stream",
     "text": [
      "22\n",
      "0.001\n",
      "(2+3j)\n"
     ]
    }
   ],
   "source": [
    "integer = 22\n",
    "Float = 0.001\n",
    "complex_num = 2 + 3j\n",
    "print(integer)\n",
    "print(Float)\n",
    "print(complex_num)"
   ]
  },
  {
   "cell_type": "markdown",
   "id": "8c9f4585-26cf-4ce6-8b81-80ae007c6b10",
   "metadata": {},
   "source": [
    "<h2> Sequence </h2>"
   ]
  },
  {
   "cell_type": "code",
   "execution_count": 18,
   "id": "3f29f0d2-c622-4d05-8858-9e58806b02a2",
   "metadata": {},
   "outputs": [
    {
     "name": "stdout",
     "output_type": "stream",
     "text": [
      "[1, 2, 3, 4, 5]\n",
      "(10, 20, 30)\n",
      "5\n"
     ]
    }
   ],
   "source": [
    "List = [1, 2, 3, 4, 5]\n",
    "Tuple = (10,20 ,30 )\n",
    "Range = (5)\n",
    "print(List)\n",
    "print(Tuple)\n",
    "print((Range))"
   ]
  },
  {
   "cell_type": "markdown",
   "id": "9c2b8343-e30e-4b7c-a790-03180f82c78c",
   "metadata": {},
   "source": [
    "<h2>Text Type</h2>"
   ]
  },
  {
   "cell_type": "code",
   "execution_count": 19,
   "id": "f1707b50-fe17-48ec-979a-994a1745f9c8",
   "metadata": {},
   "outputs": [
    {
     "name": "stdout",
     "output_type": "stream",
     "text": [
      "hello world\n"
     ]
    }
   ],
   "source": [
    "String = \"hello world\"\n",
    "print(String)"
   ]
  },
  {
   "cell_type": "markdown",
   "id": "01a2193d-c3c1-485d-afb9-132b211ec4f5",
   "metadata": {},
   "source": [
    "<h2>Maping Type</h2>"
   ]
  },
  {
   "cell_type": "code",
   "execution_count": 21,
   "id": "27b5e80c-d9ff-45e1-8e34-c2ab05b8e5e6",
   "metadata": {},
   "outputs": [
    {
     "name": "stdout",
     "output_type": "stream",
     "text": [
      "{'name': 'Rubab', 'age': 20}\n"
     ]
    }
   ],
   "source": [
    "dictionary = {'name': 'Rubab', 'age': 20}\n",
    "print(dictionary)"
   ]
  },
  {
   "cell_type": "markdown",
   "id": "e4aad195-bf50-4cb3-900e-1e8c1c73c2e8",
   "metadata": {},
   "source": [
    "<h2> Boolean Type</h2>"
   ]
  },
  {
   "cell_type": "code",
   "execution_count": 22,
   "id": "670be74a-4041-40ea-9751-8870a5694f84",
   "metadata": {},
   "outputs": [
    {
     "name": "stdout",
     "output_type": "stream",
     "text": [
      "True\n",
      "False\n"
     ]
    }
   ],
   "source": [
    "Booleant = True\n",
    "Booleanf = False\n",
    "print(Booleant)\n",
    "print(Booleanf)"
   ]
  },
  {
   "cell_type": "markdown",
   "id": "e7fee51b-f3a5-4362-aec8-7e40816c561c",
   "metadata": {},
   "source": [
    "<h1> Loops </h1>"
   ]
  },
  {
   "cell_type": "markdown",
   "id": "022ce8c3-5edc-4f76-8bfe-1c788ab13da4",
   "metadata": {},
   "source": [
    "<h2> For Loop </h2>"
   ]
  },
  {
   "cell_type": "code",
   "execution_count": 25,
   "id": "23e2d339-9c99-4257-8086-903af244187d",
   "metadata": {},
   "outputs": [
    {
     "name": "stdout",
     "output_type": "stream",
     "text": [
      "apple\n",
      "banana\n",
      "cherry\n"
     ]
    }
   ],
   "source": [
    "fruits = [\"apple\", \"banana\", \"cherry\"]\n",
    "for fruit in fruits:\n",
    "    print(fruit)"
   ]
  },
  {
   "cell_type": "markdown",
   "id": "41ba1f42-4e01-4cfb-b228-3a4bb455ba1a",
   "metadata": {},
   "source": [
    "<h2>While</h2>"
   ]
  },
  {
   "cell_type": "code",
   "execution_count": 26,
   "id": "2c377368-0936-412b-b700-77966f3866b3",
   "metadata": {},
   "outputs": [
    {
     "name": "stdout",
     "output_type": "stream",
     "text": [
      "1\n",
      "2\n",
      "3\n",
      "4\n",
      "5\n"
     ]
    }
   ],
   "source": [
    "i = 1\n",
    "while i <= 5:\n",
    "    print(i)\n",
    "    i += 1"
   ]
  },
  {
   "cell_type": "markdown",
   "id": "d601226f-428f-448b-af92-c32de6816933",
   "metadata": {},
   "source": [
    "<h2> Nested loop </h2>"
   ]
  },
  {
   "cell_type": "code",
   "execution_count": 31,
   "id": "2f1503ca-fd9b-40d3-9a8d-1b1be406dcb5",
   "metadata": {},
   "outputs": [
    {
     "name": "stdout",
     "output_type": "stream",
     "text": [
      "1\t11\t\n",
      "6\t66\t\n"
     ]
    }
   ],
   "source": [
    "for i in (1, 6):  # Outer loop for rows\n",
    "    for j in (1, 11):  # Inner loop for columns\n",
    "        print(i * j, end=\"\\t\")  # Print the product of i and j\n",
    "    print()  # Move to the next line after each row"
   ]
  },
  {
   "cell_type": "markdown",
   "id": "14a5cea1-5db2-4f68-b7c8-7f8e49220f3e",
   "metadata": {},
   "source": [
    "<h1> Condtional Statements  </h1>"
   ]
  },
  {
   "cell_type": "code",
   "execution_count": 32,
   "id": "ef4f5751-efc0-4390-8dee-bf5b4c360820",
   "metadata": {},
   "outputs": [
    {
     "name": "stdout",
     "output_type": "stream",
     "text": [
      "7 is odd\n"
     ]
    }
   ],
   "source": [
    "# Checking if a number is even or odd\n",
    "num = 7\n",
    "\n",
    "if num % 2 == 0:\n",
    "    print(f\"{num} is even\")\n",
    "else:\n",
    "    print(f\"{num} is odd\")"
   ]
  },
  {
   "cell_type": "markdown",
   "id": "d5851732-1c75-4d92-b9e1-7b42a94dfeed",
   "metadata": {},
   "source": [
    "<h1> Classes</h1>"
   ]
  },
  {
   "cell_type": "code",
   "execution_count": 33,
   "id": "012fdfd0-266f-49af-86f1-2a24eb3e366a",
   "metadata": {},
   "outputs": [
    {
     "name": "stdout",
     "output_type": "stream",
     "text": [
      "The area of the circle is: 78.5\n"
     ]
    }
   ],
   "source": [
    "# Define a simple class representing a Circle\n",
    "class Circle:\n",
    "    # Constructor to initialize the radius\n",
    "    def __init__(self, radius):\n",
    "        self.radius = radius\n",
    "    \n",
    "    # Method to calculate the area of the circle\n",
    "    def calculate_area(self):\n",
    "        return 3.14 * self.radius ** 2\n",
    "\n",
    "# Creating an instance of the Circle class\n",
    "my_circle = Circle(5)\n",
    "\n",
    "# Calling the calculate_area method of the Circle instance\n",
    "area = my_circle.calculate_area()\n",
    "\n",
    "# Printing the calculated area\n",
    "print(\"The area of the circle is:\", area)"
   ]
  },
  {
   "cell_type": "markdown",
   "id": "13dd2cfb-b5cb-4c72-9fd4-cddd87acebff",
   "metadata": {},
   "source": [
    "<h1>Numpy and Panda</h1>\n",
    "<h2>why should we use them in python?</h2>"
   ]
  },
  {
   "cell_type": "markdown",
   "id": "89864199-33fd-46cf-ab34-2dd8597b2e85",
   "metadata": {},
   "source": [
    "NumPy arrays are faster and more compact than Python lists. An array consumes less memory and is convenient to use. NumPy uses much less memory to store data and it provides a mechanism of specifying the data types. This allows the code to be optimized even further.\n",
    "\n"
   ]
  },
  {
   "cell_type": "code",
   "execution_count": 45,
   "id": "154a336d-d19b-4352-b2e4-2e6fe720c9d6",
   "metadata": {},
   "outputs": [
    {
     "name": "stdout",
     "output_type": "stream",
     "text": [
      "Original Array: [1 2 3 4 5]\n",
      "Sum of Array Elements: 15\n",
      "Mean of Array Elements: 3.0\n",
      "Standard Deviation of Array Elements: 1.4142135623730951\n"
     ]
    }
   ],
   "source": [
    "# Importing NumPy library\n",
    "import numpy as np\n",
    "\n",
    "# Creating a NumPy array\n",
    "arr = np.array([1, 2, 3, 4, 5])\n",
    "\n",
    "# Printing the array\n",
    "print(\"Original Array:\", arr)\n",
    "\n",
    "# Performing some operations on the array\n",
    "print(\"Sum of Array Elements:\", np.sum(arr))\n",
    "print(\"Mean of Array Elements:\", np.mean(arr))\n",
    "print(\"Standard Deviation of Array Elements:\", np.std(arr))"
   ]
  },
  {
   "cell_type": "markdown",
   "id": "09d42416-3252-4251-962a-ea58f48a9f13",
   "metadata": {},
   "source": [
    "<h2> What kind of data does pandas handle?</h2>\n",
    "\n",
    "When working with tabular data, such as data stored in spreadsheets or databases, pandas is the right tool for you. pandas will help you to explore, clean, and process your data. In pandas, a data table is called a DataFrame.\n",
    "\n",
    "<h2>How do I read and write tabular data?</h2>\n",
    "\n",
    "pandas supports the integration with many file formats or data sources out of the box (csv, excel, sql, json, parquet,…). Importing data from each of these data sources is provided by function with the prefix read_. Similarly, the to_ methods are used to store data.\n",
    "\n",
    "<h2>Why Use Pandas?</h2>\n",
    "\n",
    "Pandas is used for data manipulation and analysis, offering powerful data structures and tools for working with structured data.\n",
    "\n",
    "<h2>1.DataFrame:</h2> Pandas provides a DataFrame object, which is a 2-dimensional labeled data structure with columns of potentially different types. It's similar to a spreadsheet or SQL table, making it easy to handle tabular data.\n",
    "\n",
    "<h2>2.Data Cleaning:</h2> Pandas offers functions and methods for data cleaning tasks such as handling missing data, removing duplicates, and transforming data into the desired format.\n",
    "\n",
    "<h2>3.Data Manipulation:</h2> It allows for easy manipulation of data, including filtering, selecting, grouping, aggregating, merging, and reshaping data.\n",
    "\n",
    "<h2>4.Data Analysis:</h2> Pandas provides statistical functions for data analysis, including descriptive statistics, correlation analysis, and time-series analysis.\n",
    "\n",
    "<h2>5.Integration with Other Libraries:</h2> Pandas integrates well with other Python libraries such as NumPy, Matplotlib, and scikit-learn, providing a powerful ecosystem for data analysis and machine learning.\n",
    "\n",
    "Overall, Pandas simplifies the process of working with structured data in Python and is widely used in data science, machine learning, and data analysis projects."
   ]
  },
  {
   "cell_type": "code",
   "execution_count": 46,
   "id": "3d87195c-8915-4516-a81c-a7c376b935d0",
   "metadata": {},
   "outputs": [
    {
     "name": "stdout",
     "output_type": "stream",
     "text": [
      "           Name  Age      city\n",
      "0    Babar Azam   30    lahore\n",
      "1       Shahdab   30    lahore\n",
      "2  Shaheen Shah   25  peshawar\n"
     ]
    }
   ],
   "source": [
    "import pandas as pd\n",
    "# Creating a DataFrame:\n",
    "data = {'Name': ['Babar Azam', 'Shahdab', 'Shaheen Shah'],\n",
    "        'Age': [30, 30, 25],\n",
    "        \"city\": ['lahore','lahore','peshawar']}\n",
    "df = pd.DataFrame(data)\n",
    "print(df)\n",
    "df.to_csv(\"CricketersInfo.csv\")"
   ]
  },
  {
   "cell_type": "markdown",
   "id": "1eb172c4-9760-4263-87d6-bf35023791ed",
   "metadata": {},
   "source": [
    "<h1>MANAGING CYBER SECURITY SALARIES DATASET USING PANDAS</h1>"
   ]
  },
  {
   "cell_type": "code",
   "execution_count": 3,
   "id": "7b3edd04-c7a5-4768-9c00-2801670cbeef",
   "metadata": {},
   "outputs": [
    {
     "name": "stdout",
     "output_type": "stream",
     "text": [
      "   work_year experience_level employment_type               job_title  salary  \\\n",
      "0       2022               EN              FT   Cyber Program Manager   63000   \n",
      "1       2022               MI              FT        Security Analyst   95000   \n",
      "2       2022               MI              FT        Security Analyst   70000   \n",
      "3       2022               MI              FT     IT Security Analyst  250000   \n",
      "4       2022               EN              CT  Cyber Security Analyst  120000   \n",
      "\n",
      "  salary_currency  salary_in_usd employee_residence  remote_ratio  \\\n",
      "0             USD          63000                 US            50   \n",
      "1             USD          95000                 US             0   \n",
      "2             USD          70000                 US             0   \n",
      "3             BRL          48853                 BR            50   \n",
      "4             USD         120000                 BW           100   \n",
      "\n",
      "  company_location company_size  \n",
      "0               US            S  \n",
      "1               US            M  \n",
      "2               US            M  \n",
      "3               BR            L  \n",
      "4               BW            S  \n"
     ]
    }
   ],
   "source": [
    "# Reading Data from CSV File:\n",
    "import pandas as pd\n",
    "df = pd.read_csv('salaries_cyber.csv')\n",
    "print(df.head())"
   ]
  },
  {
   "cell_type": "code",
   "execution_count": 4,
   "id": "7647cd5a-53f5-45b3-b7bc-a777150ef290",
   "metadata": {},
   "outputs": [
    {
     "name": "stdout",
     "output_type": "stream",
     "text": [
      "      work_year experience_level employment_type  \\\n",
      "1242       2020               MI              FT   \n",
      "1243       2021               SE              FT   \n",
      "1244       2021               SE              FT   \n",
      "1245       2021               MI              FT   \n",
      "1246       2021               MI              FT   \n",
      "\n",
      "                         job_title  salary salary_currency  salary_in_usd  \\\n",
      "1242        Cyber Security Analyst  140000             AUD          96422   \n",
      "1243  Information Security Manager   60000             GBP          82528   \n",
      "1244  Penetration Testing Engineer  126000             USD         126000   \n",
      "1245  Information Security Analyst   42000             GBP          57769   \n",
      "1246   Threat Intelligence Analyst   66310             USD          66310   \n",
      "\n",
      "     employee_residence  remote_ratio company_location company_size  \n",
      "1242                 AU            50               AU            M  \n",
      "1243                 GB            50               GB            L  \n",
      "1244                 US           100               US            L  \n",
      "1245                 GB           100               GB            L  \n",
      "1246                 US             0               US            L  \n"
     ]
    }
   ],
   "source": [
    "print(df.tail())"
   ]
  },
  {
   "cell_type": "code",
   "execution_count": 5,
   "id": "7c0d0a93-38da-447a-b3e2-00856ae19880",
   "metadata": {},
   "outputs": [
    {
     "name": "stdout",
     "output_type": "stream",
     "text": [
      "(1247, 11)\n",
      "Index(['work_year', 'experience_level', 'employment_type', 'job_title',\n",
      "       'salary', 'salary_currency', 'salary_in_usd', 'employee_residence',\n",
      "       'remote_ratio', 'company_location', 'company_size'],\n",
      "      dtype='object')\n",
      "         work_year        salary  salary_in_usd  remote_ratio\n",
      "count  1247.000000  1.247000e+03    1247.000000   1247.000000\n",
      "mean   2021.316760  5.608525e+05  120278.218925     71.491580\n",
      "std       0.715501  1.415944e+07   70291.394942     39.346851\n",
      "min    2020.000000  1.740000e+03    2000.000000      0.000000\n",
      "25%    2021.000000  7.975450e+04   74594.500000     50.000000\n",
      "50%    2021.000000  1.200000e+05  110000.000000    100.000000\n",
      "75%    2022.000000  1.600800e+05  150000.000000    100.000000\n",
      "max    2022.000000  5.000000e+08  910991.000000    100.000000\n",
      "0              Cyber Program Manager\n",
      "1                   Security Analyst\n",
      "2                   Security Analyst\n",
      "3                IT Security Analyst\n",
      "4             Cyber Security Analyst\n",
      "                    ...             \n",
      "1242          Cyber Security Analyst\n",
      "1243    Information Security Manager\n",
      "1244    Penetration Testing Engineer\n",
      "1245    Information Security Analyst\n",
      "1246     Threat Intelligence Analyst\n",
      "Name: job_title, Length: 1247, dtype: object\n"
     ]
    }
   ],
   "source": [
    "# Basic DataFrame Operations:\n",
    "print(df.shape)\n",
    "print(df.columns)\n",
    "print(df.describe())\n",
    "print(df['job_title'])"
   ]
  },
  {
   "cell_type": "markdown",
   "id": "b6ee405e-6ae5-468f-aea4-0dfa1a377692",
   "metadata": {},
   "source": [
    "<h1> Country Code Mapping</h1>"
   ]
  },
  {
   "cell_type": "code",
   "execution_count": 7,
   "id": "99464b9c-95ab-48f6-9fb6-de16eb488ed8",
   "metadata": {},
   "outputs": [
    {
     "name": "stdout",
     "output_type": "stream",
     "text": [
      "   Value           Label\n",
      "0      4     Afghanistan\n",
      "1      6         Albania\n",
      "2      7         Algeria\n",
      "3      8  American Samoa\n",
      "4      9         Andorra\n"
     ]
    }
   ],
   "source": [
    "# Reading Data from CSV File:\n",
    "df1 = pd.read_csv('Country-Code-Mapping.csv')\n",
    "print(df1.head())"
   ]
  },
  {
   "cell_type": "code",
   "execution_count": 9,
   "id": "5ff371fd-8464-4bfd-90e0-4f65689e723c",
   "metadata": {},
   "outputs": [
    {
     "name": "stdout",
     "output_type": "stream",
     "text": [
      "     Value       Label\n",
      "147    171  Uzbekistan\n",
      "148    172   Venezuela\n",
      "149    173     Vietnam\n",
      "150    174       Yemen\n",
      "151    175    Zimbabwe\n"
     ]
    }
   ],
   "source": [
    "print(df1.tail())"
   ]
  },
  {
   "cell_type": "code",
   "execution_count": 11,
   "id": "a8bdaf14-87d7-4626-b79d-bbed78733c16",
   "metadata": {},
   "outputs": [
    {
     "name": "stdout",
     "output_type": "stream",
     "text": [
      "(152, 2)\n",
      "Index(['Value', 'Label'], dtype='object')\n",
      "            Value\n",
      "count  152.000000\n",
      "mean    88.605263\n",
      "std     50.131504\n",
      "min      4.000000\n",
      "25%     44.750000\n",
      "50%     87.500000\n",
      "75%    132.500000\n",
      "max    175.000000\n",
      "0         Afghanistan\n",
      "1             Albania\n",
      "2             Algeria\n",
      "3      American Samoa\n",
      "4             Andorra\n",
      "            ...      \n",
      "147        Uzbekistan\n",
      "148         Venezuela\n",
      "149           Vietnam\n",
      "150             Yemen\n",
      "151          Zimbabwe\n",
      "Name: Label, Length: 152, dtype: object\n"
     ]
    }
   ],
   "source": [
    "# Basic DataFrame Operations:\n",
    "print(df1.shape)\n",
    "print(df1.columns)\n",
    "print(df1.describe())\n",
    "print(df1['Label'])"
   ]
  },
  {
   "cell_type": "code",
   "execution_count": null,
   "id": "31843f04-c8c2-4ca5-939e-d598986e28ab",
   "metadata": {},
   "outputs": [],
   "source": []
  }
 ],
 "metadata": {
  "kernelspec": {
   "display_name": "Python 3 (ipykernel)",
   "language": "python",
   "name": "python3"
  },
  "language_info": {
   "codemirror_mode": {
    "name": "ipython",
    "version": 3
   },
   "file_extension": ".py",
   "mimetype": "text/x-python",
   "name": "python",
   "nbconvert_exporter": "python",
   "pygments_lexer": "ipython3",
   "version": "3.12.3"
  }
 },
 "nbformat": 4,
 "nbformat_minor": 5
}
